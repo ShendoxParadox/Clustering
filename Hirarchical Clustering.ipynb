{
 "cells": [
  {
   "cell_type": "code",
   "execution_count": 1,
   "metadata": {},
   "outputs": [],
   "source": [
    "from sklearn import datasets, cluster"
   ]
  },
  {
   "cell_type": "code",
   "execution_count": 2,
   "metadata": {},
   "outputs": [],
   "source": [
    "X = datasets.load_iris().data"
   ]
  },
  {
   "cell_type": "code",
   "execution_count": 3,
   "metadata": {},
   "outputs": [],
   "source": [
    "clust = cluster.AgglomerativeClustering(n_clusters=3, linkage='average')"
   ]
  },
  {
   "cell_type": "code",
   "execution_count": 4,
   "metadata": {},
   "outputs": [],
   "source": [
    "labels = clust.fit_predict(X)"
   ]
  },
  {
   "cell_type": "code",
   "execution_count": 5,
   "metadata": {
    "scrolled": true
   },
   "outputs": [
    {
     "data": {
      "text/plain": [
       "array([1, 1, 1, 1, 1, 1, 1, 1, 1, 1, 1, 1, 1, 1, 1, 1, 1, 1, 1, 1, 1, 1,\n",
       "       1, 1, 1, 1, 1, 1, 1, 1, 1, 1, 1, 1, 1, 1, 1, 1, 1, 1, 1, 1, 1, 1,\n",
       "       1, 1, 1, 1, 1, 1, 0, 0, 0, 0, 0, 0, 0, 0, 0, 0, 0, 0, 0, 0, 0, 0,\n",
       "       0, 0, 0, 0, 0, 0, 0, 0, 0, 0, 0, 0, 0, 0, 0, 0, 0, 0, 0, 0, 0, 0,\n",
       "       0, 0, 0, 0, 0, 0, 0, 0, 0, 0, 0, 0, 2, 0, 2, 2, 2, 2, 0, 2, 2, 2,\n",
       "       2, 2, 2, 0, 0, 2, 2, 2, 2, 0, 2, 0, 2, 0, 2, 2, 0, 0, 2, 2, 2, 2,\n",
       "       2, 0, 2, 2, 2, 2, 0, 2, 2, 2, 0, 2, 2, 2, 0, 2, 2, 0], dtype=int64)"
      ]
     },
     "execution_count": 5,
     "metadata": {},
     "output_type": "execute_result"
    }
   ],
   "source": [
    "labels"
   ]
  },
  {
   "cell_type": "code",
   "execution_count": 6,
   "metadata": {},
   "outputs": [],
   "source": [
    "labels[labels == 0] = 11"
   ]
  },
  {
   "cell_type": "code",
   "execution_count": 7,
   "metadata": {},
   "outputs": [],
   "source": [
    "labels[labels == 1] = 0"
   ]
  },
  {
   "cell_type": "code",
   "execution_count": 8,
   "metadata": {},
   "outputs": [],
   "source": [
    "labels[labels == 11] = 1"
   ]
  },
  {
   "cell_type": "code",
   "execution_count": 9,
   "metadata": {},
   "outputs": [
    {
     "data": {
      "text/plain": [
       "array([0, 0, 0, 0, 0, 0, 0, 0, 0, 0, 0, 0, 0, 0, 0, 0, 0, 0, 0, 0, 0, 0,\n",
       "       0, 0, 0, 0, 0, 0, 0, 0, 0, 0, 0, 0, 0, 0, 0, 0, 0, 0, 0, 0, 0, 0,\n",
       "       0, 0, 0, 0, 0, 0, 1, 1, 1, 1, 1, 1, 1, 1, 1, 1, 1, 1, 1, 1, 1, 1,\n",
       "       1, 1, 1, 1, 1, 1, 1, 1, 1, 1, 1, 1, 1, 1, 1, 1, 1, 1, 1, 1, 1, 1,\n",
       "       1, 1, 1, 1, 1, 1, 1, 1, 1, 1, 1, 1, 2, 2, 2, 2, 2, 2, 2, 2, 2, 2,\n",
       "       2, 2, 2, 2, 2, 2, 2, 2, 2, 2, 2, 2, 2, 2, 2, 2, 2, 2, 2, 2, 2, 2,\n",
       "       2, 2, 2, 2, 2, 2, 2, 2, 2, 2, 2, 2, 2, 2, 2, 2, 2, 2])"
      ]
     },
     "execution_count": 9,
     "metadata": {},
     "output_type": "execute_result"
    }
   ],
   "source": [
    "datasets.load_iris().target"
   ]
  },
  {
   "cell_type": "code",
   "execution_count": 10,
   "metadata": {},
   "outputs": [],
   "source": [
    "from sklearn.metrics import accuracy_score"
   ]
  },
  {
   "cell_type": "code",
   "execution_count": 11,
   "metadata": {},
   "outputs": [
    {
     "data": {
      "text/plain": [
       "0.9066666666666666"
      ]
     },
     "execution_count": 11,
     "metadata": {},
     "output_type": "execute_result"
    }
   ],
   "source": [
    "accuracy_score(labels, datasets.load_iris().target)"
   ]
  },
  {
   "cell_type": "code",
   "execution_count": 28,
   "metadata": {},
   "outputs": [],
   "source": [
    "from scipy.cluster.hierarchy import dendrogram, ward, complete, single\n",
    "from sklearn import datasets\n",
    "import matplotlib.pyplot as plt\n",
    "%matplotlib inline"
   ]
  },
  {
   "cell_type": "code",
   "execution_count": 32,
   "metadata": {},
   "outputs": [],
   "source": [
    "X = datasets.load_iris().data[:50]"
   ]
  },
  {
   "cell_type": "code",
   "execution_count": 33,
   "metadata": {},
   "outputs": [],
   "source": [
    "linkage_matrix = complete(X)"
   ]
  },
  {
   "cell_type": "code",
   "execution_count": 36,
   "metadata": {
    "scrolled": false
   },
   "outputs": [
    {
     "data": {
      "text/plain": [
       "{'icoord': [[15.0, 15.0, 25.0, 25.0],\n",
       "  [45.0, 45.0, 55.0, 55.0],\n",
       "  [35.0, 35.0, 50.0, 50.0],\n",
       "  [75.0, 75.0, 85.0, 85.0],\n",
       "  [65.0, 65.0, 80.0, 80.0],\n",
       "  [42.5, 42.5, 72.5, 72.5],\n",
       "  [20.0, 20.0, 57.5, 57.5],\n",
       "  [105.0, 105.0, 115.0, 115.0],\n",
       "  [125.0, 125.0, 135.0, 135.0],\n",
       "  [155.0, 155.0, 165.0, 165.0],\n",
       "  [145.0, 145.0, 160.0, 160.0],\n",
       "  [185.0, 185.0, 195.0, 195.0],\n",
       "  [175.0, 175.0, 190.0, 190.0],\n",
       "  [152.5, 152.5, 182.5, 182.5],\n",
       "  [130.0, 130.0, 167.5, 167.5],\n",
       "  [110.0, 110.0, 148.75, 148.75],\n",
       "  [95.0, 95.0, 129.375, 129.375],\n",
       "  [38.75, 38.75, 112.1875, 112.1875],\n",
       "  [245.0, 245.0, 255.0, 255.0],\n",
       "  [235.0, 235.0, 250.0, 250.0],\n",
       "  [225.0, 225.0, 242.5, 242.5],\n",
       "  [215.0, 215.0, 233.75, 233.75],\n",
       "  [275.0, 275.0, 285.0, 285.0],\n",
       "  [265.0, 265.0, 280.0, 280.0],\n",
       "  [224.375, 224.375, 272.5, 272.5],\n",
       "  [205.0, 205.0, 248.4375, 248.4375],\n",
       "  [75.46875, 75.46875, 226.71875, 226.71875],\n",
       "  [5.0, 5.0, 151.09375, 151.09375],\n",
       "  [305.0, 305.0, 315.0, 315.0],\n",
       "  [295.0, 295.0, 310.0, 310.0],\n",
       "  [325.0, 325.0, 335.0, 335.0],\n",
       "  [302.5, 302.5, 330.0, 330.0],\n",
       "  [345.0, 345.0, 355.0, 355.0],\n",
       "  [365.0, 365.0, 375.0, 375.0],\n",
       "  [395.0, 395.0, 405.0, 405.0],\n",
       "  [385.0, 385.0, 400.0, 400.0],\n",
       "  [370.0, 370.0, 392.5, 392.5],\n",
       "  [350.0, 350.0, 381.25, 381.25],\n",
       "  [435.0, 435.0, 445.0, 445.0],\n",
       "  [425.0, 425.0, 440.0, 440.0],\n",
       "  [415.0, 415.0, 432.5, 432.5],\n",
       "  [465.0, 465.0, 475.0, 475.0],\n",
       "  [455.0, 455.0, 470.0, 470.0],\n",
       "  [485.0, 485.0, 495.0, 495.0],\n",
       "  [462.5, 462.5, 490.0, 490.0],\n",
       "  [423.75, 423.75, 476.25, 476.25],\n",
       "  [365.625, 365.625, 450.0, 450.0],\n",
       "  [316.25, 316.25, 407.8125, 407.8125],\n",
       "  [78.046875, 78.046875, 362.03125, 362.03125]],\n",
       " 'dcoord': [[0.0, 0.1414213562373093, 0.1414213562373093, 0.0],\n",
       "  [0.0, 0.1, 0.1, 0.0],\n",
       "  [0.0, 0.19999999999999993, 0.19999999999999993, 0.1],\n",
       "  [0.0, 0.14142135623730986, 0.14142135623730986, 0.0],\n",
       "  [0.0, 0.19999999999999998, 0.19999999999999998, 0.14142135623730986],\n",
       "  [0.19999999999999993,\n",
       "   0.3000000000000002,\n",
       "   0.3000000000000002,\n",
       "   0.19999999999999998],\n",
       "  [0.1414213562373093,\n",
       "   0.3605551275463989,\n",
       "   0.3605551275463989,\n",
       "   0.3000000000000002],\n",
       "  [0.0, 0.14142135623730925, 0.14142135623730925, 0.0],\n",
       "  [0.0, 0.14142135623730964, 0.14142135623730964, 0.0],\n",
       "  [0.0, 0.09999999999999998, 0.09999999999999998, 0.0],\n",
       "  [0.0, 0.17320508075688743, 0.17320508075688743, 0.09999999999999998],\n",
       "  [0.0, 0.09999999999999964, 0.09999999999999964, 0.0],\n",
       "  [0.0, 0.17320508075688762, 0.17320508075688762, 0.09999999999999964],\n",
       "  [0.17320508075688743,\n",
       "   0.2645751311064589,\n",
       "   0.2645751311064589,\n",
       "   0.17320508075688762],\n",
       "  [0.14142135623730964,\n",
       "   0.30000000000000027,\n",
       "   0.30000000000000027,\n",
       "   0.2645751311064589],\n",
       "  [0.14142135623730925,\n",
       "   0.3741657386773941,\n",
       "   0.3741657386773941,\n",
       "   0.30000000000000027],\n",
       "  [0.0, 0.469041575982343, 0.469041575982343, 0.3741657386773941],\n",
       "  [0.3605551275463989,\n",
       "   0.6557438524302003,\n",
       "   0.6557438524302003,\n",
       "   0.469041575982343],\n",
       "  [0.0, 0.14142135623730964, 0.14142135623730964, 0.0],\n",
       "  [0.0, 0.24494897427831802, 0.24494897427831802, 0.14142135623730964],\n",
       "  [0.0, 0.2999999999999998, 0.2999999999999998, 0.24494897427831802],\n",
       "  [0.0, 0.33166247903553986, 0.33166247903553986, 0.2999999999999998],\n",
       "  [0.0, 0.14142135623730948, 0.14142135623730948, 0.0],\n",
       "  [0.0, 0.3464101615137755, 0.3464101615137755, 0.14142135623730948],\n",
       "  [0.33166247903553986,\n",
       "   0.6164414002968974,\n",
       "   0.6164414002968974,\n",
       "   0.3464101615137755],\n",
       "  [0.0, 0.8306623862918074, 0.8306623862918074, 0.6164414002968974],\n",
       "  [0.6557438524302003,\n",
       "   1.1090536506409419,\n",
       "   1.1090536506409419,\n",
       "   0.8306623862918074],\n",
       "  [0.0, 1.4071247279470291, 1.4071247279470291, 1.1090536506409419],\n",
       "  [0.0, 0.3464101615137755, 0.3464101615137755, 0.0],\n",
       "  [0.0, 0.45825756949558394, 0.45825756949558394, 0.3464101615137755],\n",
       "  [0.0, 0.5477225575051664, 0.5477225575051664, 0.0],\n",
       "  [0.45825756949558394,\n",
       "   0.6855654600401041,\n",
       "   0.6855654600401041,\n",
       "   0.5477225575051664],\n",
       "  [0.0, 0.33166247903553986, 0.33166247903553986, 0.0],\n",
       "  [0.0, 0.282842712474619, 0.282842712474619, 0.0],\n",
       "  [0.0, 0.10000000000000053, 0.10000000000000053, 0.0],\n",
       "  [0.0, 0.3464101615137756, 0.3464101615137756, 0.10000000000000053],\n",
       "  [0.282842712474619,\n",
       "   0.4242640687119284,\n",
       "   0.4242640687119284,\n",
       "   0.3464101615137756],\n",
       "  [0.33166247903553986,\n",
       "   0.6082762530298218,\n",
       "   0.6082762530298218,\n",
       "   0.4242640687119284],\n",
       "  [0.0, 0.14142135623730928, 0.14142135623730928, 0.0],\n",
       "  [0.0, 0.24494897427831772, 0.24494897427831772, 0.14142135623730928],\n",
       "  [0.0, 0.41231056256176596, 0.41231056256176596, 0.24494897427831772],\n",
       "  [0.0, 0.1999999999999998, 0.1999999999999998, 0.0],\n",
       "  [0.0, 0.264575131106459, 0.264575131106459, 0.1999999999999998],\n",
       "  [0.0, 0.2999999999999998, 0.2999999999999998, 0.0],\n",
       "  [0.264575131106459,\n",
       "   0.5477225575051661,\n",
       "   0.5477225575051661,\n",
       "   0.2999999999999998],\n",
       "  [0.41231056256176596,\n",
       "   0.6480740698407859,\n",
       "   0.6480740698407859,\n",
       "   0.5477225575051661],\n",
       "  [0.6082762530298218,\n",
       "   1.009950493836208,\n",
       "   1.009950493836208,\n",
       "   0.6480740698407859],\n",
       "  [0.6855654600401041,\n",
       "   1.417744687875783,\n",
       "   1.417744687875783,\n",
       "   1.009950493836208],\n",
       "  [1.4071247279470291,\n",
       "   2.428991560298224,\n",
       "   2.428991560298224,\n",
       "   1.417744687875783]],\n",
       " 'ivl': ['41',\n",
       "  '29',\n",
       "  '30',\n",
       "  '25',\n",
       "  '9',\n",
       "  '34',\n",
       "  '12',\n",
       "  '1',\n",
       "  '45',\n",
       "  '35',\n",
       "  '4',\n",
       "  '37',\n",
       "  '27',\n",
       "  '28',\n",
       "  '40',\n",
       "  '0',\n",
       "  '17',\n",
       "  '49',\n",
       "  '7',\n",
       "  '39',\n",
       "  '22',\n",
       "  '6',\n",
       "  '42',\n",
       "  '2',\n",
       "  '3',\n",
       "  '47',\n",
       "  '13',\n",
       "  '8',\n",
       "  '38',\n",
       "  '16',\n",
       "  '32',\n",
       "  '33',\n",
       "  '14',\n",
       "  '15',\n",
       "  '5',\n",
       "  '18',\n",
       "  '20',\n",
       "  '31',\n",
       "  '36',\n",
       "  '10',\n",
       "  '48',\n",
       "  '44',\n",
       "  '46',\n",
       "  '19',\n",
       "  '21',\n",
       "  '43',\n",
       "  '23',\n",
       "  '26',\n",
       "  '11',\n",
       "  '24'],\n",
       " 'leaves': [41,\n",
       "  29,\n",
       "  30,\n",
       "  25,\n",
       "  9,\n",
       "  34,\n",
       "  12,\n",
       "  1,\n",
       "  45,\n",
       "  35,\n",
       "  4,\n",
       "  37,\n",
       "  27,\n",
       "  28,\n",
       "  40,\n",
       "  0,\n",
       "  17,\n",
       "  49,\n",
       "  7,\n",
       "  39,\n",
       "  22,\n",
       "  6,\n",
       "  42,\n",
       "  2,\n",
       "  3,\n",
       "  47,\n",
       "  13,\n",
       "  8,\n",
       "  38,\n",
       "  16,\n",
       "  32,\n",
       "  33,\n",
       "  14,\n",
       "  15,\n",
       "  5,\n",
       "  18,\n",
       "  20,\n",
       "  31,\n",
       "  36,\n",
       "  10,\n",
       "  48,\n",
       "  44,\n",
       "  46,\n",
       "  19,\n",
       "  21,\n",
       "  43,\n",
       "  23,\n",
       "  26,\n",
       "  11,\n",
       "  24],\n",
       " 'color_list': ['g',\n",
       "  'g',\n",
       "  'g',\n",
       "  'g',\n",
       "  'g',\n",
       "  'g',\n",
       "  'g',\n",
       "  'g',\n",
       "  'g',\n",
       "  'g',\n",
       "  'g',\n",
       "  'g',\n",
       "  'g',\n",
       "  'g',\n",
       "  'g',\n",
       "  'g',\n",
       "  'g',\n",
       "  'g',\n",
       "  'g',\n",
       "  'g',\n",
       "  'g',\n",
       "  'g',\n",
       "  'g',\n",
       "  'g',\n",
       "  'g',\n",
       "  'g',\n",
       "  'g',\n",
       "  'g',\n",
       "  'r',\n",
       "  'r',\n",
       "  'r',\n",
       "  'r',\n",
       "  'r',\n",
       "  'r',\n",
       "  'r',\n",
       "  'r',\n",
       "  'r',\n",
       "  'r',\n",
       "  'r',\n",
       "  'r',\n",
       "  'r',\n",
       "  'r',\n",
       "  'r',\n",
       "  'r',\n",
       "  'r',\n",
       "  'r',\n",
       "  'r',\n",
       "  'r',\n",
       "  'b']}"
      ]
     },
     "execution_count": 36,
     "metadata": {},
     "output_type": "execute_result"
    },
    {
     "data": {
      "image/png": "[encoded data removed]",
      "text/plain": [
       "<Figure size 432x288 with 1 Axes>"
      ]
     },
     "metadata": {
      "needs_background": "light"
     },
     "output_type": "display_data"
    }
   ],
   "source": [
    "dendrogram(linkage_matrix)"
   ]
  },
  {
   "cell_type": "code",
   "execution_count": null,
   "metadata": {
    "scrolled": false
   },
   "outputs": [],
   "source": []
  },
  {
   "cell_type": "code",
   "execution_count": null,
   "metadata": {},
   "outputs": [],
   "source": []
  }
 ],
 "metadata": {
  "kernelspec": {
   "display_name": "Python 3",
   "language": "python",
   "name": "python3"
  },
  "language_info": {
   "codemirror_mode": {
    "name": "ipython",
    "version": 3
   },
   "file_extension": ".py",
   "mimetype": "text/x-python",
   "name": "python",
   "nbconvert_exporter": "python",
   "pygments_lexer": "ipython3",
   "version": "3.7.1"
  }
 },
 "nbformat": 4,
 "nbformat_minor": 2
}
